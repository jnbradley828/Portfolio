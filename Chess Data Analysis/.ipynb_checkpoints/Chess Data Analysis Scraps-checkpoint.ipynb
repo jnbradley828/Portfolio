{
 "cells": [
  {
   "cell_type": "code",
   "execution_count": 1,
   "id": "b38cfea3-fe76-4c32-a5b7-22c4bf1fee1b",
   "metadata": {},
   "outputs": [],
   "source": [
    "import pandas as pd\n",
    "import numpy as np\n",
    "from urllib.request import urlopen\n",
    "import ssl\n",
    "import certifi\n",
    "import io\n",
    "import datetime"
   ]
  },
  {
   "cell_type": "code",
   "execution_count": 22,
   "id": "37fd26b2-fe06-4608-ba03-a33db0374240",
   "metadata": {},
   "outputs": [
    {
     "name": "stderr",
     "output_type": "stream",
     "text": [
      "/var/folders/01/mldp0g2d0h57s08vdtwnz8zh0000gn/T/ipykernel_788/2163430367.py:9: FutureWarning: Passing literal json to 'read_json' is deprecated and will be removed in a future version. To read from a literal string, wrap it in a 'StringIO' object.\n",
      "  data = pd.read_json(data)\n"
     ]
    }
   ],
   "source": [
    "ssl_cert_file = certifi.where()\n",
    "\n",
    "ssl_context = ssl.SSLContext(ssl.PROTOCOL_TLS_CLIENT)\n",
    "ssl_context.load_verify_locations(ssl_cert_file)\n",
    "\n",
    "url = 'https://api.chess.com/pub/player/jnbradley828/games/2023/10'\n",
    "response = urlopen(url, context=ssl_context)\n",
    "data = response.read().decode('utf-8', 'replace')\n",
    "data = pd.read_json(data)"
   ]
  },
  {
   "cell_type": "code",
   "execution_count": 23,
   "id": "2bb98a8d-89c4-489b-953c-1d1290ce05a3",
   "metadata": {},
   "outputs": [
    {
     "name": "stdout",
     "output_type": "stream",
     "text": [
      "game #1:\n",
      "chess\n",
      "game #2:\n",
      "chess\n",
      "game #3:\n",
      "chess\n",
      "game #4:\n",
      "chess\n",
      "game #5:\n",
      "chess\n",
      "game #6:\n",
      "chess\n",
      "game #7:\n",
      "chess\n",
      "game #8:\n",
      "chess\n",
      "game #9:\n",
      "chess\n",
      "game #10:\n",
      "chess\n",
      "game #11:\n",
      "chess\n",
      "game #12:\n",
      "chess\n",
      "game #13:\n",
      "chess\n",
      "game #14:\n",
      "chess\n",
      "game #15:\n",
      "chess\n",
      "game #16:\n",
      "chess\n",
      "game #17:\n",
      "chess\n",
      "game #18:\n",
      "chess\n",
      "game #19:\n",
      "chess\n",
      "game #20:\n",
      "chess\n",
      "game #21:\n",
      "chess\n",
      "game #22:\n",
      "chess\n",
      "game #23:\n",
      "chess\n",
      "game #24:\n",
      "chess\n",
      "game #25:\n",
      "chess\n",
      "game #26:\n",
      "chess\n",
      "game #27:\n",
      "chess\n",
      "game #28:\n",
      "chess\n",
      "game #29:\n",
      "chess\n",
      "game #30:\n",
      "chess\n",
      "game #31:\n",
      "chess\n",
      "game #32:\n",
      "chess\n",
      "game #33:\n",
      "chess\n",
      "game #34:\n",
      "chess\n",
      "game #35:\n",
      "chess\n",
      "game #36:\n",
      "chess\n",
      "game #37:\n",
      "chess\n",
      "game #38:\n",
      "chess\n",
      "game #39:\n",
      "chess\n",
      "game #40:\n",
      "chess\n",
      "game #41:\n",
      "chess\n",
      "game #42:\n",
      "chess\n",
      "game #43:\n",
      "chess\n",
      "game #44:\n",
      "chess\n",
      "game #45:\n",
      "chess\n",
      "game #46:\n",
      "chess\n",
      "game #47:\n",
      "chess\n",
      "game #48:\n",
      "chess\n",
      "game #49:\n",
      "chess\n",
      "game #50:\n",
      "chess\n",
      "game #51:\n",
      "chess\n",
      "game #52:\n",
      "chess\n",
      "game #53:\n",
      "chess\n",
      "game #54:\n",
      "chess\n",
      "game #55:\n",
      "chess\n",
      "game #56:\n",
      "chess\n",
      "game #57:\n",
      "chess\n",
      "game #58:\n",
      "chess\n",
      "game #59:\n",
      "chess\n",
      "game #60:\n",
      "chess\n",
      "game #61:\n",
      "chess\n",
      "game #62:\n",
      "chess\n",
      "game #63:\n",
      "chess\n",
      "game #64:\n",
      "chess\n",
      "game #65:\n",
      "chess\n",
      "game #66:\n",
      "chess\n",
      "game #67:\n",
      "chess\n",
      "game #68:\n",
      "chess\n",
      "game #69:\n",
      "chess\n",
      "game #70:\n",
      "chess\n",
      "game #71:\n",
      "chess\n",
      "game #72:\n",
      "chess\n",
      "game #73:\n",
      "chess\n",
      "game #74:\n",
      "chess\n",
      "game #75:\n",
      "chess\n",
      "game #76:\n",
      "chess\n",
      "game #77:\n",
      "chess\n",
      "game #78:\n",
      "chess\n",
      "game #79:\n",
      "chess\n",
      "game #80:\n",
      "chess\n",
      "game #81:\n",
      "chess\n",
      "game #82:\n",
      "chess\n",
      "game #83:\n",
      "chess\n",
      "game #84:\n",
      "chess\n",
      "game #85:\n",
      "chess\n",
      "game #86:\n",
      "chess\n",
      "game #87:\n",
      "chess\n",
      "game #88:\n",
      "chess\n",
      "game #89:\n",
      "chess\n",
      "game #90:\n",
      "chess\n",
      "game #91:\n",
      "chess\n",
      "game #92:\n",
      "chess\n",
      "game #93:\n",
      "chess\n",
      "game #94:\n",
      "chess\n",
      "game #95:\n",
      "chess\n",
      "game #96:\n",
      "chess\n",
      "game #97:\n",
      "chess\n",
      "game #98:\n",
      "chess\n",
      "game #99:\n",
      "chess\n",
      "game #100:\n",
      "chess\n",
      "game #101:\n",
      "chess\n",
      "game #102:\n",
      "chess\n",
      "game #103:\n",
      "chess\n",
      "game #104:\n",
      "chess\n",
      "game #105:\n",
      "chess\n"
     ]
    }
   ],
   "source": [
    "i=1\n",
    "for game in data['games']:\n",
    "    print(f'game #{i}:\\n{game[\"rules\"]}')\n",
    "    i = i+1"
   ]
  },
  {
   "cell_type": "code",
   "execution_count": 10,
   "id": "087db306-283c-4f1c-a5fb-cff6ccfe56b6",
   "metadata": {},
   "outputs": [
    {
     "data": {
      "text/plain": [
       "'[Event \"Live Chess\"]\\n[Site \"Chess.com\"]\\n[Date \"2022.07.08\"]\\n[Round \"-\"]\\n[White \"shayanmeer\"]\\n[Black \"jnbradley828\"]\\n[Result \"1-0\"]\\n[CurrentPosition \"4r2r/1k3p2/1p6/PPpP1bp1/2P1n2p/4P2P/4QPPB/R5K1 b - -\"]\\n[Timezone \"UTC\"]\\n[ECO \"A45\"]\\n[ECOUrl \"https://www.chess.com/openings/Trompowsky-Attack\"]\\n[UTCDate \"2022.07.08\"]\\n[UTCTime \"05:14:45\"]\\n[WhiteElo \"1052\"]\\n[BlackElo \"1187\"]\\n[TimeControl \"60+1\"]\\n[Termination \"shayanmeer won on time\"]\\n[StartTime \"05:14:45\"]\\n[EndDate \"2022.07.08\"]\\n[EndTime \"05:17:41\"]\\n[Link \"https://www.chess.com/game/live/50996366359\"]\\n\\n1. d4 {[%clk 0:01:01]} 1... Nf6 {[%clk 0:00:59.1]} 2. Bg5 {[%clk 0:01:01.7]} 2... e5 {[%clk 0:00:57.8]} 3. Nf3 {[%clk 0:01:02.3]} 3... e4 {[%clk 0:00:56.9]} 4. Ne5 {[%clk 0:00:58.6]} 4... d6 {[%clk 0:00:56.6]} 5. Nc4 {[%clk 0:00:57]} 5... Be6 {[%clk 0:00:56.1]} 6. e3 {[%clk 0:00:55.1]} 6... h6 {[%clk 0:00:51.8]} 7. Bh4 {[%clk 0:00:53.9]} 7... g5 {[%clk 0:00:50]} 8. Bg3 {[%clk 0:00:53.5]} 8... h5 {[%clk 0:00:49.7]} 9. h3 {[%clk 0:00:51.2]} 9... h4 {[%clk 0:00:49.3]} 10. Bh2 {[%clk 0:00:50.3]} 10... Bg7 {[%clk 0:00:49.2]} 11. Nc3 {[%clk 0:00:48.9]} 11... Nbd7 {[%clk 0:00:48.1]} 12. Be2 {[%clk 0:00:49.2]} 12... Qe7 {[%clk 0:00:38.5]} 13. Na5 {[%clk 0:00:45.3]} 13... O-O-O {[%clk 0:00:28.9]} 14. b4 {[%clk 0:00:43.2]} 14... Nd5 {[%clk 0:00:16.3]} 15. a3 {[%clk 0:00:36.9]} 15... Nxc3 {[%clk 0:00:16]} 16. Qd2 {[%clk 0:00:34.3]} 16... Nxe2 {[%clk 0:00:16.3]} 17. Qxe2 {[%clk 0:00:34.6]} 17... Qf6 {[%clk 0:00:15.2]} 18. c4 {[%clk 0:00:33.1]} 18... b6 {[%clk 0:00:15.2]} 19. Nc6 {[%clk 0:00:31.7]} 19... Rde8 {[%clk 0:00:14.8]} 20. Nxa7+ {[%clk 0:00:30.7]} 20... Kb7 {[%clk 0:00:14.9]} 21. Nb5 {[%clk 0:00:29.2]} 21... c6 {[%clk 0:00:14.8]} 22. Nxd6+ {[%clk 0:00:28.1]} 22... Kc7 {[%clk 0:00:12.8]} 23. Nxe4+ {[%clk 0:00:26.7]} 23... Kb7 {[%clk 0:00:06.6]} 24. Nxf6 {[%clk 0:00:27.1]} 24... Bxf6 {[%clk 0:00:07.5]} 25. b5 {[%clk 0:00:25]} 25... c5 {[%clk 0:00:07.7]} 26. d5 {[%clk 0:00:23.6]} 26... Bxa1 {[%clk 0:00:07.6]} 27. O-O {[%clk 0:00:22.5]} 27... Bf5 {[%clk 0:00:05.2]} 28. Rxa1 {[%clk 0:00:19.2]} 28... Nf6 {[%clk 0:00:03]} 29. a4 {[%clk 0:00:19]} 29... Ne4 {[%clk 0:00:02.5]} 30. a5 {[%clk 0:00:18.5]} 1-0\\n'"
      ]
     },
     "execution_count": 10,
     "metadata": {},
     "output_type": "execute_result"
    }
   ],
   "source": [
    "data['games'][0]['pgn'] #Example of each game's data"
   ]
  },
  {
   "cell_type": "markdown",
   "id": "5d95a36a-201e-4394-8e3c-1b850d47a6f6",
   "metadata": {},
   "source": [
    "### Relevant data: white or black, time_control, end_time, time_class, my result, loss type, my rating, opponent rating, best move (True or False)"
   ]
  },
  {
   "cell_type": "code",
   "execution_count": 4,
   "id": "6a44dccd-fe0d-4980-833c-59903ec18be2",
   "metadata": {
    "scrolled": true
   },
   "outputs": [
    {
     "name": "stdout",
     "output_type": "stream",
     "text": [
      "['[Event \"Live Chess\"]', '[Site \"Chess.com\"]', '[Date \"2023.07.03\"]', '[Round \"-\"]', '[White \"HoursingAround\"]', '[Black \"jnbradley828\"]', '[Result \"0-1\"]', '[CurrentPosition \"8/R5p1/6k1/8/P1P5/2b5/1r2pP2/4K3 w - -\"]', '[Timezone \"UTC\"]', '[ECO \"B00\"]', '[ECOUrl \"https://www.chess.com/openings/Nimzowitsch-Defense-Scandinavian-Bogoljubov-Variation-3...dxe4\"]', '[UTCDate \"2023.07.03\"]', '[UTCTime \"03:09:13\"]', '[WhiteElo \"1270\"]', '[BlackElo \"1254\"]', '[TimeControl \"300+5\"]', '[Termination \"jnbradley828 won by checkmate\"]', '[StartTime \"03:09:13\"]', '[EndDate \"2023.07.03\"]', '[EndTime \"03:16:58\"]', '[Link \"https://www.chess.com/game/live/82092658919\"]', '', '1. e4 {[%clk 0:05:02.5]} 1... Nc6 {[%clk 0:05:04]} 2. d4 {[%clk 0:05:04.3]} 2... d5 {[%clk 0:05:07.5]} 3. Nc3 {[%clk 0:05:01]} 3... dxe4 {[%clk 0:05:02.5]} 4. Bb5 {[%clk 0:04:55.5]} 4... Bd7 {[%clk 0:04:50.9]} 5. Nxe4 {[%clk 0:04:35.6]} 5... e6 {[%clk 0:04:54.6]} 6. Nf3 {[%clk 0:04:29.9]} 6... Nf6 {[%clk 0:04:54.4]} 7. Nxf6+ {[%clk 0:04:26.9]} 7... Qxf6 {[%clk 0:04:59.3]} 8. O-O {[%clk 0:04:27.6]} 8... Bd6 {[%clk 0:04:51.4]} 9. Bg5 {[%clk 0:04:28.9]} 9... Qg6 {[%clk 0:04:52.8]} 10. Bd3 {[%clk 0:04:12]} 10... f5 {[%clk 0:04:56.8]} 11. Qd2 {[%clk 0:04:14]} 11... h6 {[%clk 0:04:56.4]} 12. Nh4 {[%clk 0:04:13.8]} 12... Qxg5 {[%clk 0:04:59.1]} 13. Qxg5 {[%clk 0:04:03.4]} 13... hxg5 {[%clk 0:05:04]} 14. Ng6 {[%clk 0:04:07]} 14... Rh6 {[%clk 0:05:06.2]} 15. Ne5 {[%clk 0:04:07.6]} 15... Nxe5 {[%clk 0:05:10.4]} 16. dxe5 {[%clk 0:04:11.5]} 16... Bxe5 {[%clk 0:05:14.8]} 17. Rfe1 {[%clk 0:04:16]} 17... Bf6 {[%clk 0:05:17.4]} 18. Bxf5 {[%clk 0:04:19.4]} 18... O-O-O {[%clk 0:05:17.5]} 19. Be4 {[%clk 0:04:12.6]} 19... Rdh8 {[%clk 0:05:20.3]} 20. h3 {[%clk 0:04:14.6]} 20... g4 {[%clk 0:05:23.4]} 21. Kf1 {[%clk 0:03:40.5]} 21... gxh3 {[%clk 0:05:26.8]} 22. gxh3 {[%clk 0:03:43.9]} 22... Rxh3 {[%clk 0:05:30.7]} 23. Bg2 {[%clk 0:03:44.7]} 23... R3h4 {[%clk 0:05:29]} 24. Re3 {[%clk 0:03:37.2]} 24... Bc6 {[%clk 0:05:31.2]} 25. Bxc6 {[%clk 0:03:33.6]} 25... bxc6 {[%clk 0:05:36.1]} 26. Ke2 {[%clk 0:03:37.9]} 26... Kd7 {[%clk 0:05:31.3]} 27. Rd1+ {[%clk 0:03:40.4]} 27... Ke7 {[%clk 0:05:35.6]} 28. Red3 {[%clk 0:03:36.2]} 28... Re4+ {[%clk 0:05:31.4]} 29. Kf3 {[%clk 0:03:39.3]} 29... Rhh4 {[%clk 0:05:29.3]} 30. Rd7+ {[%clk 0:03:40]} 30... Kf8 {[%clk 0:05:31.1]} 31. Rxc7 {[%clk 0:03:36.4]} 31... Rhf4+ {[%clk 0:05:32.8]} 32. Kg2 {[%clk 0:03:34.5]} 32... Rd4 {[%clk 0:05:34.2]} 33. Rxd4 {[%clk 0:03:31.8]} 33... Rxd4 {[%clk 0:05:39.1]} 34. Rxc6 {[%clk 0:03:33.3]} 34... e5 {[%clk 0:05:28.7]} 35. c3 {[%clk 0:03:36.1]} 35... Rd2 {[%clk 0:05:32.3]} 36. Rc8+ {[%clk 0:03:34.9]} 36... Kf7 {[%clk 0:05:30.5]} 37. Rc7+ {[%clk 0:03:38.4]} 37... Kg6 {[%clk 0:05:34.9]} 38. Rxa7 {[%clk 0:03:41.3]} 38... Rxb2 {[%clk 0:05:39.4]} 39. a4 {[%clk 0:03:43.8]} 39... e4 {[%clk 0:05:40.1]} 40. c4 {[%clk 0:03:40.9]} 40... e3 {[%clk 0:05:43.1]} 41. Kf1 {[%clk 0:03:41.8]} 41... e2+ {[%clk 0:05:47]} 42. Ke1 {[%clk 0:03:44.9]} 42... Bc3# {[%clk 0:05:51.6]} 0-1']\n"
     ]
    }
   ],
   "source": [
    "print(data['games'][0]['pgn'].splitlines()) #It's all in the pgn"
   ]
  },
  {
   "cell_type": "code",
   "execution_count": 11,
   "id": "ea9cd583-48b4-425c-a894-91111f0dfd7e",
   "metadata": {},
   "outputs": [
    {
     "name": "stdout",
     "output_type": "stream",
     "text": [
      "{'Event': 'Live Chess\"', 'Site': 'Chess.com\"', 'Date': '2023.10.01\"', 'Round': '-\"', 'White': 'Jeca666\"', 'Black': 'jnbradley828\"', 'Result': '0-1\"', 'CurrentPosition': '5rk1/3b2pp/1q3p2/2n1pP2/1p2P3/1n1p2PP/1RQBN1BK/r4R2 w - -\"', 'Timezone': 'UTC\"', 'ECO': 'B23\"', 'ECOUrl': 'https://www.chess.com/openings/Closed-Sicilian-Defense-Korchnoi-Defense-4.Bg2-d4\"', 'UTCDate': '2023.10.01\"', 'UTCTime': '16:15:15\"', 'WhiteElo': '1297\"', 'BlackElo': '1314\"', 'TimeControl': '60+1\"', 'Termination': 'jnbradley828 won by resignation\"', 'StartTime': '16:15:15\"', 'EndDate': '2023.10.01\"', 'EndTime': '16:18:11\"', 'Link': 'https://www.chess.com/game/live/89915975525\"'}\n"
     ]
    }
   ],
   "source": [
    "data0 = data['games'][0]['pgn'].splitlines()\n",
    "data00 = {}\n",
    "for item in data0:\n",
    "    item_split = item.split(' \"')\n",
    "    try:\n",
    "        data00[f'{item_split[0][1:]}'] = f'{item_split[1][:-1]}'\n",
    "    except:\n",
    "        continue\n",
    "print(data00)"
   ]
  },
  {
   "cell_type": "code",
   "execution_count": 13,
   "id": "1027810e-8807-47eb-841f-1959e41eaa8a",
   "metadata": {},
   "outputs": [
    {
     "data": {
      "text/plain": [
       "{'url': 'https://www.chess.com/game/live/89915975525',\n",
       " 'pgn': '[Event \"Live Chess\"]\\n[Site \"Chess.com\"]\\n[Date \"2023.10.01\"]\\n[Round \"-\"]\\n[White \"Jeca666\"]\\n[Black \"jnbradley828\"]\\n[Result \"0-1\"]\\n[CurrentPosition \"5rk1/3b2pp/1q3p2/2n1pP2/1p2P3/1n1p2PP/1RQBN1BK/r4R2 w - -\"]\\n[Timezone \"UTC\"]\\n[ECO \"B23\"]\\n[ECOUrl \"https://www.chess.com/openings/Closed-Sicilian-Defense-Korchnoi-Defense-4.Bg2-d4\"]\\n[UTCDate \"2023.10.01\"]\\n[UTCTime \"16:15:15\"]\\n[WhiteElo \"1297\"]\\n[BlackElo \"1314\"]\\n[TimeControl \"60+1\"]\\n[Termination \"jnbradley828 won by resignation\"]\\n[StartTime \"16:15:15\"]\\n[EndDate \"2023.10.01\"]\\n[EndTime \"16:18:11\"]\\n[Link \"https://www.chess.com/game/live/89915975525\"]\\n\\n1. e4 {[%clk 0:01:01]} 1... c5 {[%clk 0:01:01]} 2. Nc3 {[%clk 0:01:00.8]} 2... e6 {[%clk 0:01:01.2]} 3. g3 {[%clk 0:01:01.6]} 3... d5 {[%clk 0:01:01.6]} 4. Bg2 {[%clk 0:01:02.5]} 4... d4 {[%clk 0:01:01.6]} 5. Nb1 {[%clk 0:01:02.5]} 5... e5 {[%clk 0:01:01.5]} 6. d3 {[%clk 0:01:02.7]} 6... Nc6 {[%clk 0:01:01.8]} 7. Ne2 {[%clk 0:01:02]} 7... Be6 {[%clk 0:01:01.2]} 8. O-O {[%clk 0:01:01.6]} 8... Nf6 {[%clk 0:00:58.6]} 9. Nd2 {[%clk 0:01:01.5]} 9... Be7 {[%clk 0:00:58.3]} 10. f4 {[%clk 0:01:01.5]} 10... O-O {[%clk 0:00:53.1]} 11. f5 {[%clk 0:01:01.1]} 11... Bd7 {[%clk 0:00:52.9]} 12. Kh1 {[%clk 0:01:00.9]} 12... a5 {[%clk 0:00:50.9]} 13. Nc4 {[%clk 0:01:00.4]} 13... b5 {[%clk 0:00:45.4]} 14. Nd2 {[%clk 0:00:58.8]} 14... a4 {[%clk 0:00:39.3]} 15. a3 {[%clk 0:00:58.3]} 15... Qa5 {[%clk 0:00:33.2]} 16. h3 {[%clk 0:00:56.7]} 16... Ne8 {[%clk 0:00:32.4]} 17. Nf3 {[%clk 0:00:56.2]} 17... Nd6 {[%clk 0:00:32.3]} 18. Kh2 {[%clk 0:00:55.2]} 18... c4 {[%clk 0:00:32.1]} 19. Bd2 {[%clk 0:00:51.5]} 19... Qb6 {[%clk 0:00:28.3]} 20. dxc4 {[%clk 0:00:50.4]} 20... Nxc4 {[%clk 0:00:29.2]} 21. b3 {[%clk 0:00:45.6]} 21... Nd6 {[%clk 0:00:26]} 22. Ng5 {[%clk 0:00:42.8]} 22... Bxg5 {[%clk 0:00:24.8]} 23. Bxg5 {[%clk 0:00:42.2]} 23... f6 {[%clk 0:00:25.6]} 24. Bd2 {[%clk 0:00:41.1]} 24... axb3 {[%clk 0:00:25.2]} 25. cxb3 {[%clk 0:00:38.7]} 25... b4 {[%clk 0:00:23.4]} 26. a4 {[%clk 0:00:38.3]} 26... Nb7 {[%clk 0:00:21.9]} 27. Rc1 {[%clk 0:00:37.8]} 27... Nc5 {[%clk 0:00:21.3]} 28. Ng1 {[%clk 0:00:32.8]} 28... Na5 {[%clk 0:00:20.9]} 29. Ne2 {[%clk 0:00:29.6]} 29... Naxb3 {[%clk 0:00:20.5]} 30. Rc2 {[%clk 0:00:27.2]} 30... Rxa4 {[%clk 0:00:17.2]} 31. Rb2 {[%clk 0:00:24.9]} 31... Ra1 {[%clk 0:00:16.7]} 32. Qc2 {[%clk 0:00:23.9]} 32... d3 {[%clk 0:00:14.5]} 0-1\\n',\n",
       " 'time_control': '60+1',\n",
       " 'end_time': 1696177091,\n",
       " 'rated': True,\n",
       " 'accuracies': {'white': 75.83, 'black': 79.08},\n",
       " 'tcn': 'mCYIbs0SowZJfoJBsbSKlt5Qgm6Seg!Tbl90nD8!DLSZghWGlAXHAlGyiq7GpxT8lv8RhpIAclGPtARAjrARvM0MlM1TMlyrkrHzqyRXacXImgQGgmGrck4ykjyadkBt',\n",
       " 'uuid': 'b1c8f05e-6075-11ee-905a-6cfe544c0428',\n",
       " 'initial_setup': 'rnbqkbnr/pppppppp/8/8/8/8/PPPPPPPP/RNBQKBNR w KQkq - 0 1',\n",
       " 'fen': '5rk1/3b2pp/1q3p2/2n1pP2/1p2P3/1n1p2PP/1RQBN1BK/r4R2 w - -',\n",
       " 'time_class': 'bullet',\n",
       " 'rules': 'chess',\n",
       " 'white': {'rating': 1297,\n",
       "  'result': 'resigned',\n",
       "  '@id': 'https://api.chess.com/pub/player/jeca666',\n",
       "  'username': 'Jeca666',\n",
       "  'uuid': 'ae609dbe-a930-11eb-9a8d-938e165891a5'},\n",
       " 'black': {'rating': 1314,\n",
       "  'result': 'win',\n",
       "  '@id': 'https://api.chess.com/pub/player/jnbradley828',\n",
       "  'username': 'jnbradley828',\n",
       "  'uuid': '7a6f9f76-64c1-11e7-805e-000000000000'}}"
      ]
     },
     "execution_count": 13,
     "metadata": {},
     "output_type": "execute_result"
    }
   ],
   "source": [
    "pgn = data['games'][0]\n",
    "pgn"
   ]
  },
  {
   "cell_type": "code",
   "execution_count": null,
   "id": "c5846b01-8795-4329-ab8d-c8c4494c3d9a",
   "metadata": {},
   "outputs": [],
   "source": [
    "game.headers['Black']"
   ]
  },
  {
   "cell_type": "code",
   "execution_count": null,
   "id": "6ba640c2-c1f2-4cf3-a793-0262ff0df266",
   "metadata": {},
   "outputs": [],
   "source": [
    "game.headers['Date']"
   ]
  },
  {
   "cell_type": "code",
   "execution_count": null,
   "id": "9757fb8a-6c40-48b9-8270-e09ad7efd892",
   "metadata": {},
   "outputs": [],
   "source": [
    "moves=[]\n",
    "for move in game.mainline_moves():\n",
    "    moves.append(move.uci())\n",
    "moves"
   ]
  }
 ],
 "metadata": {
  "kernelspec": {
   "display_name": "Python 3 (ipykernel)",
   "language": "python",
   "name": "python3"
  },
  "language_info": {
   "codemirror_mode": {
    "name": "ipython",
    "version": 3
   },
   "file_extension": ".py",
   "mimetype": "text/x-python",
   "name": "python",
   "nbconvert_exporter": "python",
   "pygments_lexer": "ipython3",
   "version": "3.11.2"
  }
 },
 "nbformat": 4,
 "nbformat_minor": 5
}
